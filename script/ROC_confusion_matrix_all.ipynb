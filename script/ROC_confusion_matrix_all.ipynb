{
 "cells": [
  {
   "cell_type": "code",
   "execution_count": 90,
   "metadata": {},
   "outputs": [
    {
     "data": {
      "text/html": [
       "<pre style=\"white-space:pre;overflow-x:auto;line-height:normal;font-family:Menlo,'DejaVu Sans Mono',consolas,'Courier New',monospace\"><span style=\"color: #800080; text-decoration-color: #800080; font-weight: bold\">Index</span><span style=\"font-weight: bold\">([</span><span style=\"color: #008000; text-decoration-color: #008000\">'     '</span>, <span style=\"color: #008000; text-decoration-color: #008000\">'mediaID'</span>, <span style=\"color: #008000; text-decoration-color: #008000\">'ground_truth'</span>, <span style=\"color: #008000; text-decoration-color: #008000\">'human_detectron'</span>,\n",
       "       <span style=\"color: #008000; text-decoration-color: #008000\">'human_megadetector'</span>, <span style=\"color: #008000; text-decoration-color: #008000\">'human_openpose'</span>, <span style=\"color: #008000; text-decoration-color: #008000\">'human_detectron_score'</span><span style=\"font-weight: bold\">]</span>,\n",
       "      <span style=\"color: #808000; text-decoration-color: #808000\">dtype</span>=<span style=\"color: #008000; text-decoration-color: #008000\">'object'</span><span style=\"font-weight: bold\">)</span>\n",
       "</pre>\n"
      ],
      "text/plain": [
       "\u001b[1;35mIndex\u001b[0m\u001b[1m(\u001b[0m\u001b[1m[\u001b[0m\u001b[32m'     '\u001b[0m, \u001b[32m'mediaID'\u001b[0m, \u001b[32m'ground_truth'\u001b[0m, \u001b[32m'human_detectron'\u001b[0m,\n",
       "       \u001b[32m'human_megadetector'\u001b[0m, \u001b[32m'human_openpose'\u001b[0m, \u001b[32m'human_detectron_score'\u001b[0m\u001b[1m]\u001b[0m,\n",
       "      \u001b[33mdtype\u001b[0m=\u001b[32m'object'\u001b[0m\u001b[1m)\u001b[0m\n"
      ]
     },
     "metadata": {},
     "output_type": "display_data"
    },
    {
     "data": {
      "text/html": [
       "<pre style=\"white-space:pre;overflow-x:auto;line-height:normal;font-family:Menlo,'DejaVu Sans Mono',consolas,'Courier New',monospace\">For the algortihm detectron\n",
       "</pre>\n"
      ],
      "text/plain": [
       "For the algortihm detectron\n"
      ]
     },
     "metadata": {},
     "output_type": "display_data"
    },
    {
     "data": {
      "text/html": [
       "<pre style=\"white-space:pre;overflow-x:auto;line-height:normal;font-family:Menlo,'DejaVu Sans Mono',consolas,'Courier New',monospace\"><span style=\"color: #800000; text-decoration-color: #800000; font-weight: bold\">Confusion matrix </span> <span style=\"color: #00ff00; text-decoration-color: #00ff00\">─────────────────────────────────────────────────────────────────────────────────────────────────</span>\n",
       "</pre>\n"
      ],
      "text/plain": [
       "\u001b[1;31mConfusion matrix \u001b[0m \u001b[92m─────────────────────────────────────────────────────────────────────────────────────────────────\u001b[0m\n"
      ]
     },
     "metadata": {},
     "output_type": "display_data"
    },
    {
     "data": {
      "text/html": [
       "<pre style=\"white-space:pre;overflow-x:auto;line-height:normal;font-family:Menlo,'DejaVu Sans Mono',consolas,'Courier New',monospace\">Nr of occurance of:\n",
       "<span style=\"color: #008080; text-decoration-color: #008080; font-weight: bold\">0</span>    <span style=\"color: #008080; text-decoration-color: #008080; font-weight: bold\">4644</span>\n",
       "<span style=\"color: #008080; text-decoration-color: #008080; font-weight: bold\">1</span>    <span style=\"color: #008080; text-decoration-color: #008080; font-weight: bold\">2160</span>\n",
       "Name: ground_truth, dtype: int64\n",
       "</pre>\n"
      ],
      "text/plain": [
       "Nr of occurance of:\n",
       "\u001b[1;36m0\u001b[0m    \u001b[1;36m4644\u001b[0m\n",
       "\u001b[1;36m1\u001b[0m    \u001b[1;36m2160\u001b[0m\n",
       "Name: ground_truth, dtype: int64\n"
      ]
     },
     "metadata": {},
     "output_type": "display_data"
    },
    {
     "data": {
      "text/html": [
       "<pre style=\"white-space:pre;overflow-x:auto;line-height:normal;font-family:Menlo,'DejaVu Sans Mono',consolas,'Courier New',monospace\">total <span style=\"color: #008080; text-decoration-color: #008080; font-weight: bold\">6804</span>\n",
       "</pre>\n"
      ],
      "text/plain": [
       "total \u001b[1;36m6804\u001b[0m\n"
      ]
     },
     "metadata": {},
     "output_type": "display_data"
    },
    {
     "data": {
      "text/html": [
       "<pre style=\"white-space:pre;overflow-x:auto;line-height:normal;font-family:Menlo,'DejaVu Sans Mono',consolas,'Courier New',monospace\">╭──────────┬─────────────┬─────────────╮\n",
       "│<span style=\"font-weight: bold\">          </span>│<span style=\"font-weight: bold\"> predicted 0 </span>│<span style=\"font-weight: bold\"> predicted 1 </span>│\n",
       "├──────────┼─────────────┼─────────────┤\n",
       "│ actual 0 │ <span style=\"color: #000080; text-decoration-color: #000080\">3862</span>        │ 782         │\n",
       "│ actual 1 │ 155         │ <span style=\"color: #000080; text-decoration-color: #000080\">2005</span>        │\n",
       "╰──────────┴─────────────┴─────────────╯\n",
       "</pre>\n"
      ],
      "text/plain": [
       "╭──────────┬─────────────┬─────────────╮\n",
       "│\u001b[1m \u001b[0m\u001b[1m        \u001b[0m\u001b[1m \u001b[0m│\u001b[1m \u001b[0m\u001b[1mpredicted 0\u001b[0m\u001b[1m \u001b[0m│\u001b[1m \u001b[0m\u001b[1mpredicted 1\u001b[0m\u001b[1m \u001b[0m│\n",
       "├──────────┼─────────────┼─────────────┤\n",
       "│ actual 0 │ \u001b[34m3862\u001b[0m        │ 782         │\n",
       "│ actual 1 │ 155         │ \u001b[34m2005\u001b[0m        │\n",
       "╰──────────┴─────────────┴─────────────╯\n"
      ]
     },
     "metadata": {},
     "output_type": "display_data"
    },
    {
     "data": {
      "text/html": [
       "<pre style=\"white-space:pre;overflow-x:auto;line-height:normal;font-family:Menlo,'DejaVu Sans Mono',consolas,'Courier New',monospace\">f1: <span style=\"color: #ffaf00; text-decoration-color: #ffaf00; font-weight: bold\">0.8105922781483726</span>\n",
       "\n",
       "</pre>\n"
      ],
      "text/plain": [
       "f1: \u001b[1;38;5;214m0.8105922781483726\u001b[0m\n",
       "\n"
      ]
     },
     "metadata": {},
     "output_type": "display_data"
    },
    {
     "data": {
      "text/html": [
       "<pre style=\"white-space:pre;overflow-x:auto;line-height:normal;font-family:Menlo,'DejaVu Sans Mono',consolas,'Courier New',monospace\">For the algortihm openpose\n",
       "</pre>\n"
      ],
      "text/plain": [
       "For the algortihm openpose\n"
      ]
     },
     "metadata": {},
     "output_type": "display_data"
    },
    {
     "data": {
      "text/html": [
       "<pre style=\"white-space:pre;overflow-x:auto;line-height:normal;font-family:Menlo,'DejaVu Sans Mono',consolas,'Courier New',monospace\"><span style=\"color: #800000; text-decoration-color: #800000; font-weight: bold\">Confusion matrix </span> <span style=\"color: #00ff00; text-decoration-color: #00ff00\">─────────────────────────────────────────────────────────────────────────────────────────────────</span>\n",
       "</pre>\n"
      ],
      "text/plain": [
       "\u001b[1;31mConfusion matrix \u001b[0m \u001b[92m─────────────────────────────────────────────────────────────────────────────────────────────────\u001b[0m\n"
      ]
     },
     "metadata": {},
     "output_type": "display_data"
    },
    {
     "data": {
      "text/html": [
       "<pre style=\"white-space:pre;overflow-x:auto;line-height:normal;font-family:Menlo,'DejaVu Sans Mono',consolas,'Courier New',monospace\">Nr of occurance of:\n",
       "<span style=\"color: #008080; text-decoration-color: #008080; font-weight: bold\">0</span>    <span style=\"color: #008080; text-decoration-color: #008080; font-weight: bold\">4644</span>\n",
       "<span style=\"color: #008080; text-decoration-color: #008080; font-weight: bold\">1</span>    <span style=\"color: #008080; text-decoration-color: #008080; font-weight: bold\">2160</span>\n",
       "Name: ground_truth, dtype: int64\n",
       "</pre>\n"
      ],
      "text/plain": [
       "Nr of occurance of:\n",
       "\u001b[1;36m0\u001b[0m    \u001b[1;36m4644\u001b[0m\n",
       "\u001b[1;36m1\u001b[0m    \u001b[1;36m2160\u001b[0m\n",
       "Name: ground_truth, dtype: int64\n"
      ]
     },
     "metadata": {},
     "output_type": "display_data"
    },
    {
     "data": {
      "text/html": [
       "<pre style=\"white-space:pre;overflow-x:auto;line-height:normal;font-family:Menlo,'DejaVu Sans Mono',consolas,'Courier New',monospace\">total <span style=\"color: #008080; text-decoration-color: #008080; font-weight: bold\">6804</span>\n",
       "</pre>\n"
      ],
      "text/plain": [
       "total \u001b[1;36m6804\u001b[0m\n"
      ]
     },
     "metadata": {},
     "output_type": "display_data"
    },
    {
     "data": {
      "text/html": [
       "<pre style=\"white-space:pre;overflow-x:auto;line-height:normal;font-family:Menlo,'DejaVu Sans Mono',consolas,'Courier New',monospace\">╭──────────┬─────────────┬─────────────╮\n",
       "│<span style=\"font-weight: bold\">          </span>│<span style=\"font-weight: bold\"> predicted 0 </span>│<span style=\"font-weight: bold\"> predicted 1 </span>│\n",
       "├──────────┼─────────────┼─────────────┤\n",
       "│ actual 0 │ <span style=\"color: #000080; text-decoration-color: #000080\">3462</span>        │ 1182        │\n",
       "│ actual 1 │ 1353        │ <span style=\"color: #000080; text-decoration-color: #000080\">807</span>         │\n",
       "╰──────────┴─────────────┴─────────────╯\n",
       "</pre>\n"
      ],
      "text/plain": [
       "╭──────────┬─────────────┬─────────────╮\n",
       "│\u001b[1m \u001b[0m\u001b[1m        \u001b[0m\u001b[1m \u001b[0m│\u001b[1m \u001b[0m\u001b[1mpredicted 0\u001b[0m\u001b[1m \u001b[0m│\u001b[1m \u001b[0m\u001b[1mpredicted 1\u001b[0m\u001b[1m \u001b[0m│\n",
       "├──────────┼─────────────┼─────────────┤\n",
       "│ actual 0 │ \u001b[34m3462\u001b[0m        │ 1182        │\n",
       "│ actual 1 │ 1353        │ \u001b[34m807\u001b[0m         │\n",
       "╰──────────┴─────────────┴─────────────╯\n"
      ]
     },
     "metadata": {},
     "output_type": "display_data"
    },
    {
     "data": {
      "text/html": [
       "<pre style=\"white-space:pre;overflow-x:auto;line-height:normal;font-family:Menlo,'DejaVu Sans Mono',consolas,'Courier New',monospace\">f1: <span style=\"color: #ffaf00; text-decoration-color: #ffaf00; font-weight: bold\">0.38900939985538685</span>\n",
       "\n",
       "</pre>\n"
      ],
      "text/plain": [
       "f1: \u001b[1;38;5;214m0.38900939985538685\u001b[0m\n",
       "\n"
      ]
     },
     "metadata": {},
     "output_type": "display_data"
    },
    {
     "data": {
      "text/html": [
       "<pre style=\"white-space:pre;overflow-x:auto;line-height:normal;font-family:Menlo,'DejaVu Sans Mono',consolas,'Courier New',monospace\">For the algortihm megadetector\n",
       "</pre>\n"
      ],
      "text/plain": [
       "For the algortihm megadetector\n"
      ]
     },
     "metadata": {},
     "output_type": "display_data"
    },
    {
     "data": {
      "text/html": [
       "<pre style=\"white-space:pre;overflow-x:auto;line-height:normal;font-family:Menlo,'DejaVu Sans Mono',consolas,'Courier New',monospace\"><span style=\"color: #800000; text-decoration-color: #800000; font-weight: bold\">Confusion matrix </span> <span style=\"color: #00ff00; text-decoration-color: #00ff00\">─────────────────────────────────────────────────────────────────────────────────────────────────</span>\n",
       "</pre>\n"
      ],
      "text/plain": [
       "\u001b[1;31mConfusion matrix \u001b[0m \u001b[92m─────────────────────────────────────────────────────────────────────────────────────────────────\u001b[0m\n"
      ]
     },
     "metadata": {},
     "output_type": "display_data"
    },
    {
     "data": {
      "text/html": [
       "<pre style=\"white-space:pre;overflow-x:auto;line-height:normal;font-family:Menlo,'DejaVu Sans Mono',consolas,'Courier New',monospace\">Nr of occurance of:\n",
       "<span style=\"color: #008080; text-decoration-color: #008080; font-weight: bold\">0</span>    <span style=\"color: #008080; text-decoration-color: #008080; font-weight: bold\">4644</span>\n",
       "<span style=\"color: #008080; text-decoration-color: #008080; font-weight: bold\">1</span>    <span style=\"color: #008080; text-decoration-color: #008080; font-weight: bold\">2160</span>\n",
       "Name: ground_truth, dtype: int64\n",
       "</pre>\n"
      ],
      "text/plain": [
       "Nr of occurance of:\n",
       "\u001b[1;36m0\u001b[0m    \u001b[1;36m4644\u001b[0m\n",
       "\u001b[1;36m1\u001b[0m    \u001b[1;36m2160\u001b[0m\n",
       "Name: ground_truth, dtype: int64\n"
      ]
     },
     "metadata": {},
     "output_type": "display_data"
    },
    {
     "data": {
      "text/html": [
       "<pre style=\"white-space:pre;overflow-x:auto;line-height:normal;font-family:Menlo,'DejaVu Sans Mono',consolas,'Courier New',monospace\">total <span style=\"color: #008080; text-decoration-color: #008080; font-weight: bold\">6804</span>\n",
       "</pre>\n"
      ],
      "text/plain": [
       "total \u001b[1;36m6804\u001b[0m\n"
      ]
     },
     "metadata": {},
     "output_type": "display_data"
    },
    {
     "data": {
      "text/html": [
       "<pre style=\"white-space:pre;overflow-x:auto;line-height:normal;font-family:Menlo,'DejaVu Sans Mono',consolas,'Courier New',monospace\">╭──────────┬─────────────┬─────────────╮\n",
       "│<span style=\"font-weight: bold\">          </span>│<span style=\"font-weight: bold\"> predicted 0 </span>│<span style=\"font-weight: bold\"> predicted 1 </span>│\n",
       "├──────────┼─────────────┼─────────────┤\n",
       "│ actual 0 │ <span style=\"color: #000080; text-decoration-color: #000080\">4306</span>        │ 338         │\n",
       "│ actual 1 │ 646         │ <span style=\"color: #000080; text-decoration-color: #000080\">1514</span>        │\n",
       "╰──────────┴─────────────┴─────────────╯\n",
       "</pre>\n"
      ],
      "text/plain": [
       "╭──────────┬─────────────┬─────────────╮\n",
       "│\u001b[1m \u001b[0m\u001b[1m        \u001b[0m\u001b[1m \u001b[0m│\u001b[1m \u001b[0m\u001b[1mpredicted 0\u001b[0m\u001b[1m \u001b[0m│\u001b[1m \u001b[0m\u001b[1mpredicted 1\u001b[0m\u001b[1m \u001b[0m│\n",
       "├──────────┼─────────────┼─────────────┤\n",
       "│ actual 0 │ \u001b[34m4306\u001b[0m        │ 338         │\n",
       "│ actual 1 │ 646         │ \u001b[34m1514\u001b[0m        │\n",
       "╰──────────┴─────────────┴─────────────╯\n"
      ]
     },
     "metadata": {},
     "output_type": "display_data"
    },
    {
     "data": {
      "text/html": [
       "<pre style=\"white-space:pre;overflow-x:auto;line-height:normal;font-family:Menlo,'DejaVu Sans Mono',consolas,'Courier New',monospace\">f1: <span style=\"color: #ffaf00; text-decoration-color: #ffaf00; font-weight: bold\">0.7547357926221336</span>\n",
       "\n",
       "</pre>\n"
      ],
      "text/plain": [
       "f1: \u001b[1;38;5;214m0.7547357926221336\u001b[0m\n",
       "\n"
      ]
     },
     "metadata": {},
     "output_type": "display_data"
    },
    {
     "data": {
      "image/png": "[encoded data removed]",
      "text/plain": [
       "<Figure size 432x288 with 1 Axes>"
      ]
     },
     "metadata": {
      "needs_background": "light"
     },
     "output_type": "display_data"
    },
    {
     "data": {
      "image/png": "[encoded data removed]",
      "text/plain": [
       "<Figure size 432x288 with 1 Axes>"
      ]
     },
     "metadata": {
      "needs_background": "light"
     },
     "output_type": "display_data"
    },
    {
     "data": {
      "image/png": "[encoded data removed]",
      "text/plain": [
       "<Figure size 432x288 with 1 Axes>"
      ]
     },
     "metadata": {
      "needs_background": "light"
     },
     "output_type": "display_data"
    }
   ],
   "source": [
    "import numpy as np\n",
    "from pathlib import Path\n",
    "import pandas as pd\n",
    "\n",
    "from rich import print\n",
    "from rich.console import Console\n",
    "from rich.table import Table\n",
    "from rich import box \n",
    "from sklearn import metrics\n",
    "from sklearn.pipeline import make_pipeline\n",
    "from sklearn.preprocessing import StandardScaler\n",
    "from sklearn.svm import LinearSVC\n",
    "# Configure script\n",
    "import matplotlib.pyplot as plt\n",
    "from sklearn.metrics import PrecisionRecallDisplay\n",
    "from sklearn.model_selection import train_test_split\n",
    "from sklearn import datasets\n",
    "import pandas as pd\n",
    "from sklearn.linear_model import LogisticRegression\n",
    "from sklearn.model_selection import train_test_split\n",
    "from sklearn.metrics import precision_recall_curve\n",
    "from sklearn.metrics import plot_precision_recall_curve\n",
    "from sklearn.metrics import precision_score\n",
    "from sklearn.metrics import recall_score\n",
    "import matplotlib.pyplot as plt\n",
    "\n",
    "\n",
    "FILE_NAME = \"humandata_all.csv\"\n",
    "def table_setup():\n",
    "    table = Table(title=\"\", box=box.ROUNDED)\n",
    "    table.add_column(\"\")\n",
    "    table.add_column(\"predicted 0\")\n",
    "    table.add_column(\"predicted 1\")\n",
    "    return table\n",
    "\n",
    "def handle_running_from_different_directories(file_name: str):\n",
    "    cwd = Path.cwd()\n",
    "    base =  \"csv\" / Path(file_name)\n",
    "    if (cwd / base).exists():\n",
    "        return cwd / base\n",
    "    elif (cwd / \"..\" / base).exists():\n",
    "        return cwd / \"..\" / base\n",
    "\n",
    "\n",
    "\n",
    "console = Console(record=True)\n",
    "\n",
    "\n",
    "\n",
    "\n",
    "csv_loc = handle_running_from_different_directories(FILE_NAME)\n",
    "\n",
    "df = pd.read_csv(csv_loc)\n",
    "print(df.columns)\n",
    "\n",
    "\n",
    "# Calculating Confusion matrix\n",
    "def confusion_matrix_create (column_name):\n",
    "    y = df[\"ground_truth\"] # definite truth\n",
    "    val_count = y.value_counts()\n",
    "    total = len(y)\n",
    "    console.rule(f\"[bold red]Confusion matrix \", align=\"left\")\n",
    "    print(f\"Nr of occurance of:\\n{val_count}\")\n",
    "    print(f\"total {total}\")\n",
    "    table = table_setup()\n",
    "    X = df[column_name]\n",
    "    # continue\n",
    "    tn, fp, fn, tp = metrics.confusion_matrix(y, X).ravel()\n",
    "\n",
    "    f1 = f1_score(y, X)\n",
    "\n",
    "    #print\n",
    "    table.add_row(\"actual 0\", \"[blue]\"+str(tn), str(fp))\n",
    "    table.add_row(\"actual 1\", str(fn), \"[blue]\"+str(tp))\n",
    "    console.print(table)\n",
    "    console.print(f\"f1: [orange1]{f1}[/orange1]\\n\")\n",
    "    \n",
    "\n",
    "\n",
    "figure_no=1\n",
    "def ROC_create (column_name):\n",
    "    y = df[\"ground_truth\"] # definite truth\n",
    "    val_count = y.value_counts()\n",
    "    total = len(y)\n",
    "    \n",
    "    X = df[column_name]\n",
    "#     tn, fp, fn, tp = metrics.confusion_matrix(y, X).ravel()\n",
    "    fpr, tpr, thresholds = metrics.roc_curve(y, X)\n",
    "    roc_display = metrics.RocCurveDisplay(fpr=fpr, tpr=tpr).plot()\n",
    "#     global figure_no\n",
    "#     plt.figure()\n",
    "#     plt.plot(fpr,tpr)\n",
    "#     plt.title(\"For the algortihm \" + column_name.split(\"_\")[1])\n",
    "\n",
    "\n",
    "\n",
    "\n",
    "\n",
    "\n",
    "\n",
    "\n",
    "\n",
    "\n",
    "\n",
    "\n",
    "\n",
    "\n",
    "\n",
    "# def precisionRecall_create (column_name):\n",
    "#     y = df[\"ground_truth\"].values # definite truth\n",
    "#     y = y.reshape(-1, 1)\n",
    "    \n",
    "    \n",
    "#     X = df[column_name].values\n",
    "#     X=X.reshape(-1,1)\n",
    "    \n",
    "# #     X = np.array(X).reshape(-1,1)\n",
    "# #     y = np.array(y).reshape(-1,1)\n",
    "#     print(X)\n",
    "#     X_train, X_test, y_train, y_test = train_test_split(\n",
    "#                                    X, y, test_size=0.3, random_state=0)\n",
    "#     model = LogisticRegression()\n",
    "#     model.fit(X_train, y_train)\n",
    "#     pred = model.predict(X_test)\n",
    "#     precision = precision_score(y_test, pred)\n",
    "#     recall = recall_score(y_test, pred)\n",
    "#     disp = plot_precision_recall_curve(model, X_test, y_test)\n",
    " \n",
    "    \n",
    "    \n",
    "labels = [\"human_detectron\",\"human_openpose\",\"human_megadetector\"]\n",
    "for x in labels:\n",
    "    print(\"For the algortihm \" + x.split(\"_\")[1])\n",
    "    confusion_matrix_create(x)\n",
    "    ROC_create(x)\n",
    "#     precisionRecall_create(x)\n"
   ]
  },
  {
   "cell_type": "code",
   "execution_count": null,
   "metadata": {},
   "outputs": [],
   "source": []
  },
  {
   "cell_type": "code",
   "execution_count": null,
   "metadata": {},
   "outputs": [],
   "source": []
  }
 ],
 "metadata": {
  "kernelspec": {
   "display_name": "Python 3",
   "language": "python",
   "name": "python3"
  },
  "language_info": {
   "codemirror_mode": {
    "name": "ipython",
    "version": 3
   },
   "file_extension": ".py",
   "mimetype": "text/x-python",
   "name": "python",
   "nbconvert_exporter": "python",
   "pygments_lexer": "ipython3",
   "version": "3.8.5"
  }
 },
 "nbformat": 4,
 "nbformat_minor": 4
}
