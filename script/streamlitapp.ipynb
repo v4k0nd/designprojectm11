{
 "cells": [
  {
   "cell_type": "code",
   "execution_count": 13,
   "metadata": {},
   "outputs": [
    {
     "name": "stdout",
     "output_type": "stream",
     "text": [
      "mediaID\n",
      "groundTruth\n",
      "['mediaID']\n"
     ]
    }
   ],
   "source": [
    "import numpy as np\n",
    "from pathlib import Path\n",
    "import pandas as pd\n",
    "\n",
    "\n",
    "\n",
    "FILE_NAME = \"humandata_all.csv\"\n",
    "\n",
    "def handle_running_from_different_directories(file_name: str):\n",
    "    cwd = Path.cwd()\n",
    "    base =  \"csv\" / Path(file_name)\n",
    "    if (cwd / base).exists():\n",
    "        return cwd / base\n",
    "    elif (cwd / \"..\" / base).exists():\n",
    "        return cwd / \"..\" / base\n",
    "    \n",
    "csv_loc = handle_running_from_different_directories(FILE_NAME)\n",
    "csv_loc = handle_running_from_different_directories(FILE_NAME)\n",
    "\n",
    "df = pd.read_csv(csv_loc)\n",
    "\n",
    "print(df.columns[1])\n",
    "print(df.columns[2])\n",
    "print(df.columns[1].split(\"_\"))\n",
    "\n",
    "\n",
    "    "
   ]
  },
  {
   "cell_type": "code",
   "execution_count": 16,
   "metadata": {},
   "outputs": [
    {
     "name": "stdout",
     "output_type": "stream",
     "text": [
      "['detectron', 'megadetector', 'openpose']\n"
     ]
    }
   ],
   "source": [
    "def find_algorithm_names(df):\n",
    "    algorithm_names=[]\n",
    "    for column_headers in df.columns:\n",
    "        strsplit= column_headers.split(\"_\")\n",
    "        if len(strsplit)>1:\n",
    "            if strsplit[1] not in algorithm_names:\n",
    "                algorithm_names.append(strsplit[1])\n",
    "    return algorithm_names\n",
    "\n",
    "algorithm_names=find_algorithm_names(df)\n",
    "print(algorithm_names)"
   ]
  },
  {
   "cell_type": "code",
   "execution_count": 18,
   "metadata": {},
   "outputs": [
    {
     "name": "stderr",
     "output_type": "stream",
     "text": [
      "2022-10-11 14:28:13.669 \n",
      "  \u001b[33m\u001b[1mWarning:\u001b[0m to view this Streamlit app on a browser, run it with the following\n",
      "  command:\n",
      "\n",
      "    streamlit run C:\\ProgramData\\Anaconda3\\lib\\site-packages\\ipykernel_launcher.py [ARGUMENTS]\n"
     ]
    }
   ],
   "source": [
    "import streamlit as st\n",
    "st.write (\"\"\"\n",
    "#My first app\n",
    "Hello world\n",
    "\"\"\")"
   ]
  },
  {
   "cell_type": "code",
   "execution_count": null,
   "metadata": {},
   "outputs": [],
   "source": []
  }
 ],
 "metadata": {
  "kernelspec": {
   "display_name": "Python 3",
   "language": "python",
   "name": "python3"
  },
  "language_info": {
   "codemirror_mode": {
    "name": "ipython",
    "version": 3
   },
   "file_extension": ".py",
   "mimetype": "text/x-python",
   "name": "python",
   "nbconvert_exporter": "python",
   "pygments_lexer": "ipython3",
   "version": "3.8.5"
  }
 },
 "nbformat": 4,
 "nbformat_minor": 4
}
